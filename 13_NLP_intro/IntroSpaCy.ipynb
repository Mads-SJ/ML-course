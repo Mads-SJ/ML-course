{
  "cells": [
    {
      "cell_type": "code",
      "execution_count": 5,
      "metadata": {
        "id": "Uhfj7_tW7W2q"
      },
      "outputs": [],
      "source": [
        "# Intro to Spacy\n",
        "# Sila, Nov. 19th 2022\n",
        "# DMU ML"
      ]
    },
    {
      "cell_type": "code",
      "execution_count": 6,
      "metadata": {
        "id": "4OeGejvV7lsr"
      },
      "outputs": [],
      "source": [
        "import spacy\n",
        "# Load the installed model \"en_core_web_sm\"\n",
        "# !python -m spacy download en_core_web_md \n",
        "nlp = spacy.load(\"en_core_web_md\")"
      ]
    },
    {
      "cell_type": "code",
      "execution_count": 7,
      "metadata": {
        "colab": {
          "base_uri": "https://localhost:8080/"
        },
        "id": "5y5wosb17sH1",
        "outputId": "ab6bbf3c-0641-4bc6-b65b-c1a72e48fc21"
      },
      "outputs": [
        {
          "data": {
            "text/plain": [
              "['This', 'is', 'a', 'text']"
            ]
          },
          "execution_count": 7,
          "metadata": {},
          "output_type": "execute_result"
        }
      ],
      "source": [
        "doc = nlp(\"This is a text\")\n",
        "# Token texts\n",
        "[token.text for token in doc]\n",
        "# ['This', 'is', 'a', 'text']"
      ]
    },
    {
      "cell_type": "code",
      "execution_count": 8,
      "metadata": {
        "colab": {
          "base_uri": "https://localhost:8080/",
          "height": 35
        },
        "id": "knE128Tp7zo6",
        "outputId": "a3cbdd5e-6c27-405f-92f4-b6c3f8a03178"
      },
      "outputs": [
        {
          "data": {
            "text/plain": [
              "'a text'"
            ]
          },
          "execution_count": 8,
          "metadata": {},
          "output_type": "execute_result"
        }
      ],
      "source": [
        "doc = nlp(\"This is a text\")\n",
        "span = doc[2:4]\n",
        "span.text"
      ]
    },
    {
      "cell_type": "code",
      "execution_count": 9,
      "metadata": {
        "colab": {
          "base_uri": "https://localhost:8080/"
        },
        "id": "aujf4iiS7_ia",
        "outputId": "25f2c8ad-3ad8-484c-d0d8-f3ca1425988e"
      },
      "outputs": [
        {
          "data": {
            "text/plain": [
              "['PRON', 'AUX', 'DET', 'NOUN', 'PUNCT']"
            ]
          },
          "execution_count": 9,
          "metadata": {},
          "output_type": "execute_result"
        }
      ],
      "source": [
        "doc = nlp(\"This is a text.\")\n",
        "# Coarse-grained part-of-speech tags\n",
        "[token.pos_ for token in doc]\n",
        "# ['DET', 'VERB', 'DET', 'NOUN', 'PUNCT']\n",
        "# Fine-grained part-of-speech tags\n",
        "# [token.tag_ for token in doc]\n",
        "# ['DT', 'VBZ', 'DT', 'NN', '.']"
      ]
    },
    {
      "cell_type": "code",
      "execution_count": 10,
      "metadata": {
        "colab": {
          "base_uri": "https://localhost:8080/"
        },
        "id": "7ZFbofWa8e5k",
        "outputId": "68c319d1-bc5f-4f9b-d471-8df940994ee6"
      },
      "outputs": [
        {
          "data": {
            "text/plain": [
              "[('Larry Page', 'PERSON'), ('Google', 'ORG')]"
            ]
          },
          "execution_count": 10,
          "metadata": {},
          "output_type": "execute_result"
        }
      ],
      "source": [
        "doc = nlp(\"Larry Page founded Google\")\n",
        "# Text and label of named entity span\n",
        "[(ent.text, ent.label_) for ent in doc.ents]\n",
        "# [('Larry Page', 'PERSON'), ('Google', 'ORG')]"
      ]
    },
    {
      "cell_type": "code",
      "execution_count": 11,
      "metadata": {
        "colab": {
          "base_uri": "https://localhost:8080/"
        },
        "id": "vRMvLT448l6q",
        "outputId": "10b38610-be6e-4340-f184-53c59c1af8fa"
      },
      "outputs": [
        {
          "data": {
            "text/plain": [
              "['This a sentence.', 'This is another one.']"
            ]
          },
          "execution_count": 11,
          "metadata": {},
          "output_type": "execute_result"
        }
      ],
      "source": [
        "doc = nlp(\"This a sentence. This is another one.\")\n",
        "# doc.sents is a generator that yields sentence spans\n",
        "[sent.text for sent in doc.sents]\n",
        "# ['This is a sentence.', 'This is another one.']"
      ]
    },
    {
      "cell_type": "code",
      "execution_count": 12,
      "metadata": {
        "id": "PrBwYknF8u3l"
      },
      "outputs": [],
      "source": [
        "from spacy import displacy"
      ]
    },
    {
      "cell_type": "code",
      "execution_count": 13,
      "metadata": {
        "id": "WUTR0GOw8wch"
      },
      "outputs": [],
      "source": [
        "# Comparing similarity"
      ]
    },
    {
      "cell_type": "code",
      "execution_count": 14,
      "metadata": {
        "id": "rSAwL9xd9jsG"
      },
      "outputs": [],
      "source": [
        "nlp = spacy.load(\"en_core_web_md\")"
      ]
    },
    {
      "cell_type": "code",
      "execution_count": 15,
      "metadata": {
        "colab": {
          "base_uri": "https://localhost:8080/"
        },
        "id": "E2ZuGWLu82Fj",
        "outputId": "5188a75b-5c87-4783-caf5-1b8dda3c0396"
      },
      "outputs": [
        {
          "data": {
            "text/plain": [
              "0.9853114785298209"
            ]
          },
          "execution_count": 15,
          "metadata": {},
          "output_type": "execute_result"
        }
      ],
      "source": [
        "doc1 = nlp(\"I like cats\")\n",
        "doc2 = nlp(\"I like dogs\")\n",
        "# Compare 2 documents\n",
        "doc1.similarity(doc2)\n",
        "# Compare 2 tokens\n",
        "#doc1[2].similarity(doc2[2])\n",
        "# Compare tokens and spans\n",
        "#doc1[0].similarity(doc2[1:3])"
      ]
    },
    {
      "cell_type": "code",
      "execution_count": 16,
      "metadata": {
        "colab": {
          "base_uri": "https://localhost:8080/"
        },
        "id": "87DK_P76-Xli",
        "outputId": "d2631261-9700-4ce2-ffb0-53e57186b2db"
      },
      "outputs": [
        {
          "data": {
            "text/plain": [
              "0.7272915484427941"
            ]
          },
          "execution_count": 16,
          "metadata": {},
          "output_type": "execute_result"
        }
      ],
      "source": [
        "doc1 = nlp(\"Jeg kan godt lide at bygge modeller\")\n",
        "doc2 = nlp(\"Konstruktion af modeller er noget jeg synes om\")\n",
        "# Compare 2 documents\n",
        "doc1.similarity(doc2)"
      ]
    },
    {
      "cell_type": "code",
      "execution_count": 17,
      "metadata": {
        "colab": {
          "base_uri": "https://localhost:8080/"
        },
        "id": "vsmjAAxg-lpn",
        "outputId": "fc76d0ff-1b68-4a39-b4f0-84d6334e6e3e"
      },
      "outputs": [
        {
          "data": {
            "text/plain": [
              "0.2403379684920962"
            ]
          },
          "execution_count": 17,
          "metadata": {},
          "output_type": "execute_result"
        }
      ],
      "source": [
        "doc1 = nlp(\"han går til fodbold\")\n",
        "doc2 = nlp(\"bageren har åbent idag. De sælger krokoskager\")\n",
        "# Compare 2 documents\n",
        "doc1.similarity(doc2)"
      ]
    }
  ],
  "metadata": {
    "colab": {
      "provenance": []
    },
    "kernelspec": {
      "display_name": "Python 3",
      "name": "python3"
    },
    "language_info": {
      "codemirror_mode": {
        "name": "ipython",
        "version": 3
      },
      "file_extension": ".py",
      "mimetype": "text/x-python",
      "name": "python",
      "nbconvert_exporter": "python",
      "pygments_lexer": "ipython3",
      "version": "3.9.1"
    }
  },
  "nbformat": 4,
  "nbformat_minor": 0
}
